{
  "nbformat": 4,
  "nbformat_minor": 0,
  "metadata": {
    "colab": {
      "provenance": [],
      "authorship_tag": "ABX9TyOo3hVaI5hWZfu67UzHeqiE",
      "include_colab_link": true
    },
    "kernelspec": {
      "name": "python3",
      "display_name": "Python 3"
    },
    "language_info": {
      "name": "python"
    }
  },
  "cells": [
    {
      "cell_type": "markdown",
      "metadata": {
        "id": "view-in-github",
        "colab_type": "text"
      },
      "source": [
        "<a href=\"https://colab.research.google.com/github/erikaduda/dsto-gan/blob/main/Pr%C3%A9_processamento.ipynb\" target=\"_parent\"><img src=\"https://colab.research.google.com/assets/colab-badge.svg\" alt=\"Open In Colab\"/></a>"
      ]
    },
    {
      "cell_type": "markdown",
      "source": [
        "Programa em python para ler um arquivo separar os atributos da classe. Se os atributos forem nominais aplicar codificação one-hot. E se a classe para nominal substituir cada item da classe por números sequenciais (começando por 0). Depois ler o arquivo e verificar se há atributos vazios ou nulos. Se tiver substitua pela média. Gravar o resultado num arquivo .csv"
      ],
      "metadata": {
        "id": "CGCYtL9fgGst"
      }
    },
    {
      "cell_type": "code",
      "execution_count": null,
      "metadata": {
        "colab": {
          "base_uri": "https://localhost:8080/"
        },
        "id": "H0dXKtQ7gAs3",
        "outputId": "0ce421a0-8792-40b6-88b6-40468d7fd73d"
      },
      "outputs": [
        {
          "output_type": "stream",
          "name": "stdout",
          "text": [
            "Mounted at /content/drive\n"
          ]
        }
      ],
      "source": [
        "from google.colab import drive\n",
        "drive.mount('/content/drive', force_remount=True)"
      ]
    },
    {
      "cell_type": "code",
      "source": [
        "import pandas as pd\n",
        "from sklearn.preprocessing import LabelEncoder\n",
        "import pandas as pd\n",
        "import numpy as np\n",
        "import re\n",
        "import sklearn\n",
        "import os\n",
        "import tensorflow as tf\n",
        "import glob\n",
        "from google.colab import files\n",
        "from pandas import DataFrame\n",
        "from sklearn.preprocessing import LabelEncoder\n",
        "from sklearn.preprocessing import OneHotEncoder\n",
        "from sklearn.impute import SimpleImputer\n",
        "from sklearn.preprocessing import OrdinalEncoder\n",
        "from scipy.sparse import csr_matrix\n",
        "\n",
        "# Função para aplicar codificação one-hot em atributos nominais\n",
        "def apply_one_hot_encoding(data, column):\n",
        "    encoded_data = pd.get_dummies(data[column], prefix=column)\n",
        "    data = pd.concat([data, encoded_data], axis=1)\n",
        "    data.drop(column, axis=1, inplace=True)\n",
        "    return data\n",
        "\n",
        "# Função para substituir atributos vazios pela média\n",
        "def replace_missing_values(data):\n",
        "    data.replace(\"?\", np.nan, inplace=True)  # Substituir \"?\" por NaN\n",
        "    imputer = SimpleImputer(strategy=\"mean\")\n",
        "    data_imputed = pd.DataFrame(imputer.fit_transform(data), columns=data.columns)\n",
        "    return data_imputed\n",
        "\n",
        "PATH = (\"/content/drive/MyDrive/PHD_new/dataset/falta/\")\n",
        "\n",
        "csv_files = glob.glob(os.path.join(PATH, \"*.csv\"))\n",
        "print(csv_files)\n",
        "print(type(csv_files))\n",
        "\n",
        "for path, dirs, files in os.walk(PATH):\n",
        "    dirs = sorted(dirs)\n",
        "    files = sorted(files)\n",
        "    break\n",
        "\n",
        "for i in range(len(files)):\n",
        "    print(\">>>>>>>>>>>>>>>>>>>>>>>>>>\")\n",
        "    print(\"COUNT FILE: \", i)\n",
        "    print(\"NAME FILE:\", files[i])\n",
        "\n",
        "    # Leitura do arquivo\n",
        "    try:\n",
        "        data = pd.read_csv(PATH + files[i])\n",
        "    except pd.errors.ParserError as e:\n",
        "        print(f\"Error parsing file {files[i]}: {str(e)}\")\n",
        "        continue\n",
        "\n",
        "    # Separar os atributos da classe\n",
        "    class_column = 'class'\n",
        "    class_data = data[class_column]\n",
        "    feature_data = data.drop(class_column, axis=1)\n",
        "\n",
        "    # Verificar se os atributos são nominais e aplicar codificação one-hot se necessário\n",
        "    for column in feature_data.columns:\n",
        "        if feature_data[column].dtype == object:\n",
        "            feature_data = apply_one_hot_encoding(feature_data, column)\n",
        "\n",
        "    # Substituir valores \"?\" por média dos valores\n",
        "    feature_data = replace_missing_values(feature_data)\n",
        "\n",
        "    # Substituir classe nominal por números sequenciais ou valores binários (True=1, False=0)\n",
        "    if class_data.dtype == bool:\n",
        "        class_data = class_data.astype(int)  # Converte bool para int (0 e 1)\n",
        "    elif class_data.dtype == object:\n",
        "        class_data = class_data.map({'True': 1, 'False': 0})  # Mapeia 'True' para 1 e 'False' para 0\n",
        "\n",
        "    # Substituir numerica por números sequenciais\n",
        "    if class_data.dtype == int:\n",
        "        sorted_values = sorted(class_data)\n",
        "        if all(sorted_values[i] == sorted_values[0] + i for i in range(len(sorted_values))):  # Verifica se os valores são sequenciais\n",
        "            class_data = class_data - sorted_values[0]  # Subtrai o primeiro valor para começar de 0\n",
        "        else:\n",
        "            label_encoder = LabelEncoder()\n",
        "            class_data = label_encoder.fit_transform(class_data)\n",
        "\n",
        "\n",
        "   # Substituir classe nominal por números sequenciais ou valores binários (True=1, False=0)\n",
        "    if class_data.dtype == bool:\n",
        "        class_data = class_data.astype(int)  # Converte bool para int (0 e 1)\n",
        "    elif class_data.dtype == object:\n",
        "        class_data = class_data.map({'True': 1, 'False': 0})  # Mapeia 'True' para 1 e 'False' para 0\n",
        "\n",
        "    # Reunir atributos e classe novamente\n",
        "    data_encoded = pd.concat([feature_data, pd.Series(class_data, name=class_column)], axis=1)\n",
        "\n",
        "    # Gravar o resultado em um arquivo CSV\n",
        "    data_encoded.to_csv('/content/drive/MyDrive/PHD_new/dataset_tratado/error/' + files[i], index=False)\n"
      ],
      "metadata": {
        "colab": {
          "base_uri": "https://localhost:8080/"
        },
        "id": "VxRAnQnpgdwK",
        "outputId": "8b643b1a-c6c5-486c-bc36-b88213403fa7"
      },
      "execution_count": null,
      "outputs": [
        {
          "output_type": "stream",
          "name": "stdout",
          "text": [
            "['/content/drive/MyDrive/PHD_new/dataset/falta/bank-additional-full.csv']\n",
            "<class 'list'>\n",
            ">>>>>>>>>>>>>>>>>>>>>>>>>>\n",
            "COUNT FILE:  0\n",
            "NAME FILE: bank-additional-full.csv\n"
          ]
        }
      ]
    }
  ]
}